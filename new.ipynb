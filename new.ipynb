{
 "cells": [
  {
   "cell_type": "code",
   "execution_count": null,
   "metadata": {},
   "outputs": [],
   "source": [
    "print(\"hello\")"
   ]
  },
  {
   "cell_type": "code",
   "execution_count": 49,
   "metadata": {},
   "outputs": [
    {
     "name": "stdout",
     "output_type": "stream",
     "text": [
      "Sujan 2\n"
     ]
    }
   ],
   "source": [
    "x='Sujan'\n",
    "y=2\n",
    "print(x,y)"
   ]
  },
  {
   "cell_type": "code",
   "execution_count": 50,
   "metadata": {},
   "outputs": [
    {
     "name": "stdout",
     "output_type": "stream",
     "text": [
      "10\n",
      "<class 'str'>\n"
     ]
    }
   ],
   "source": [
    "list=[10,'sujan',45]\n",
    "print(list[0])\n",
    "print(type(list[1]))"
   ]
  },
  {
   "cell_type": "code",
   "execution_count": 51,
   "metadata": {},
   "outputs": [
    {
     "name": "stdout",
     "output_type": "stream",
     "text": [
      "sujan\n",
      "class\n",
      "fav sport\n"
     ]
    }
   ],
   "source": [
    "dict={\n",
    "    'sujan':'student',\n",
    "    'class':'bachelor',\n",
    "    'fav sport':'cricket'\n",
    "}\n",
    "for i in dict:\n",
    "    print(i)"
   ]
  },
  {
   "cell_type": "code",
   "execution_count": 52,
   "metadata": {},
   "outputs": [
    {
     "name": "stdout",
     "output_type": "stream",
     "text": [
      "student\n",
      "bachelor\n",
      "cricket\n"
     ]
    }
   ],
   "source": [
    "dict={\n",
    "    'sujan':'student',\n",
    "    'class':'bachelor',\n",
    "    'fav sport':'cricket'\n",
    "}\n",
    "for j in dict.values():\n",
    "    print(j)"
   ]
  },
  {
   "cell_type": "code",
   "execution_count": 53,
   "metadata": {},
   "outputs": [
    {
     "name": "stdout",
     "output_type": "stream",
     "text": [
      "sujan:student\n",
      "class:bachelor\n",
      "fav sport:cricket\n"
     ]
    }
   ],
   "source": [
    "dict={\n",
    "    'sujan':'student',\n",
    "    'class':'bachelor',\n",
    "    'fav sport':'cricket'\n",
    "}\n",
    "for key,values in dict.items():\n",
    "    print(f\"{key}:{values}\")"
   ]
  },
  {
   "cell_type": "code",
   "execution_count": null,
   "metadata": {},
   "outputs": [],
   "source": [
    "list=[1,1]\n",
    "print(list)\n",
    "list.replace(1,'2')"
   ]
  },
  {
   "cell_type": "code",
   "execution_count": null,
   "metadata": {},
   "outputs": [],
   "source": [
    "tuple=(1,1)\n",
    "print(tuple)"
   ]
  },
  {
   "cell_type": "code",
   "execution_count": null,
   "metadata": {},
   "outputs": [],
   "source": [
    "ice_cream_dict = {'name': 'Alex Freberg', 'weekly intake': 5, 'favorite ice creams': ['MCC', 'Chocolate']}"
   ]
  },
  {
   "cell_type": "code",
   "execution_count": null,
   "metadata": {},
   "outputs": [],
   "source": [
    "for cream in ice_cream_dict:\n",
    "    print(cream)"
   ]
  },
  {
   "cell_type": "code",
   "execution_count": null,
   "metadata": {},
   "outputs": [],
   "source": [
    "for cream in ice_cream_dict.values():\n",
    "    print(cream)"
   ]
  },
  {
   "cell_type": "code",
   "execution_count": null,
   "metadata": {},
   "outputs": [],
   "source": [
    "for key,values in ice_cream_dict.items():\n",
    "    print(f\"{key}:{values}\")"
   ]
  },
  {
   "cell_type": "code",
   "execution_count": null,
   "metadata": {},
   "outputs": [],
   "source": [
    "for cream in ice_cream_dict.values():\n",
    "    print(cream)"
   ]
  },
  {
   "cell_type": "code",
   "execution_count": null,
   "metadata": {},
   "outputs": [],
   "source": [
    "myDist={\n",
    "    'abc':'alphabet',\n",
    "    'anotherDist':{\n",
    "        'sujan':'a student',\n",
    "        'rohit':'nepal cricket team captain'\n",
    "    }\n",
    "}\n",
    "print(myDist['anotherDist']['rohit'])"
   ]
  },
  {
   "cell_type": "code",
   "execution_count": null,
   "metadata": {},
   "outputs": [],
   "source": [
    "if 'sujan' in myDist['anotherDist']:\n",
    "    print(myDist['anotherDist']['sujan'])"
   ]
  },
  {
   "cell_type": "code",
   "execution_count": null,
   "metadata": {},
   "outputs": [],
   "source": [
    "flavors = ['Vanilla', 'Chocolate', 'Cookie Dough']\n",
    "toppings = ['Hot Fudge', 'Oreos', 'Marshmallows']"
   ]
  },
  {
   "cell_type": "code",
   "execution_count": null,
   "metadata": {},
   "outputs": [],
   "source": [
    "for one in flavors:\n",
    "    for two in toppings:\n",
    "        print(one, 'topped with', two)"
   ]
  },
  {
   "cell_type": "code",
   "execution_count": null,
   "metadata": {},
   "outputs": [],
   "source": [
    "number=0\n",
    "while number<5:\n",
    "    print(number)\n",
    "    number=number +1"
   ]
  },
  {
   "cell_type": "code",
   "execution_count": 62,
   "metadata": {},
   "outputs": [
    {
     "name": "stdout",
     "output_type": "stream",
     "text": [
      "10\n",
      "9\n",
      "8\n",
      "7\n",
      "6\n"
     ]
    }
   ],
   "source": [
    "number=10\n",
    "while number>5:\n",
    "    print(number)\n",
    "    number = number- 1"
   ]
  },
  {
   "cell_type": "code",
   "execution_count": 64,
   "metadata": {},
   "outputs": [
    {
     "name": "stdout",
     "output_type": "stream",
     "text": [
      "1\n",
      "2\n",
      "4\n",
      "5\n",
      "That's enough\n"
     ]
    }
   ],
   "source": [
    "number=0\n",
    "while number<5:\n",
    "    number = number + 1\n",
    "    if number==3:\n",
    "        continue\n",
    "        print('this is continue')\n",
    "    print(number)\n",
    "else :\n",
    "    print(\"That's enough\")"
   ]
  },
  {
   "cell_type": "code",
   "execution_count": 2,
   "metadata": {},
   "outputs": [
    {
     "name": "stdout",
     "output_type": "stream",
     "text": [
      "1\n",
      "2\n",
      "this is break\n"
     ]
    }
   ],
   "source": [
    "number=0\n",
    "while number<5:\n",
    "    number = number + 1\n",
    "    if number==3:\n",
    "        print('this is break')\n",
    "        break\n",
    "    print(number)\n",
    "else :\n",
    "    print(\"That's enough\")"
   ]
  },
  {
   "cell_type": "code",
   "execution_count": 3,
   "metadata": {},
   "outputs": [
    {
     "name": "stdout",
     "output_type": "stream",
     "text": [
      "hello\n"
     ]
    }
   ],
   "source": [
    "print('hello')"
   ]
  }
 ],
 "metadata": {
  "kernelspec": {
   "display_name": "Python 3",
   "language": "python",
   "name": "python3"
  },
  "language_info": {
   "codemirror_mode": {
    "name": "ipython",
    "version": 3
   },
   "file_extension": ".py",
   "mimetype": "text/x-python",
   "name": "python",
   "nbconvert_exporter": "python",
   "pygments_lexer": "ipython3",
   "version": "3.11.9"
  }
 },
 "nbformat": 4,
 "nbformat_minor": 2
}
